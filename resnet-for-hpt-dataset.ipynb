{
 "cells": [
  {
   "cell_type": "code",
   "execution_count": 1,
   "id": "3d2ba5eb",
   "metadata": {
    "execution": {
     "iopub.execute_input": "2024-04-20T10:18:26.460979Z",
     "iopub.status.busy": "2024-04-20T10:18:26.460659Z",
     "iopub.status.idle": "2024-04-20T10:18:33.013413Z",
     "shell.execute_reply": "2024-04-20T10:18:33.012457Z"
    },
    "id": "Tw7XJm7xjJGO",
    "papermill": {
     "duration": 6.562281,
     "end_time": "2024-04-20T10:18:33.015816",
     "exception": false,
     "start_time": "2024-04-20T10:18:26.453535",
     "status": "completed"
    },
    "tags": []
   },
   "outputs": [],
   "source": [
    "import torch\n",
    "import torch.nn as nn\n",
    "import torch.nn.functional as F\n",
    "import numpy as np\n",
    "import torch.optim as optim\n",
    "from torchvision.datasets import ImageFolder\n",
    "from torch .utils.data import  DataLoader\n",
    "from torchvision.transforms import ToTensor,Resize, Normalize\n",
    "from torchvision import transforms\n",
    "import os\n",
    "import matplotlib.pyplot as plt\n",
    "import shutil\n",
    "from skimage.transform import resize\n",
    "from matplotlib import image as mpimg\n",
    "from torch.utils.data import random_split\n",
    "\n"
   ]
  },
  {
   "cell_type": "code",
   "execution_count": 2,
   "id": "b36382f4",
   "metadata": {
    "execution": {
     "iopub.execute_input": "2024-04-20T10:18:33.028756Z",
     "iopub.status.busy": "2024-04-20T10:18:33.027986Z",
     "iopub.status.idle": "2024-04-20T10:18:33.077153Z",
     "shell.execute_reply": "2024-04-20T10:18:33.076236Z"
    },
    "id": "k5_6Q270lKY-",
    "papermill": {
     "duration": 0.057279,
     "end_time": "2024-04-20T10:18:33.078980",
     "exception": false,
     "start_time": "2024-04-20T10:18:33.021701",
     "status": "completed"
    },
    "tags": []
   },
   "outputs": [],
   "source": [
    "device = torch.device(\"cuda\" if torch.cuda.is_available() else \"cpu\")"
   ]
  },
  {
   "cell_type": "code",
   "execution_count": 3,
   "id": "62062a14",
   "metadata": {
    "execution": {
     "iopub.execute_input": "2024-04-20T10:18:33.094881Z",
     "iopub.status.busy": "2024-04-20T10:18:33.094252Z",
     "iopub.status.idle": "2024-04-20T10:18:47.840676Z",
     "shell.execute_reply": "2024-04-20T10:18:47.839574Z"
    },
    "id": "Z-NFyH2DIHtu",
    "outputId": "660af070-c728-44ea-d141-fa2b91ffb8c2",
    "papermill": {
     "duration": 14.755912,
     "end_time": "2024-04-20T10:18:47.842875",
     "exception": false,
     "start_time": "2024-04-20T10:18:33.086963",
     "status": "completed"
    },
    "tags": []
   },
   "outputs": [
    {
     "name": "stdout",
     "output_type": "stream",
     "text": [
      "Cloning into 'HPT'...\r\n",
      "remote: Enumerating objects: 144, done.\u001b[K\r\n",
      "remote: Counting objects: 100% (74/74), done.\u001b[K\r\n",
      "remote: Compressing objects: 100% (48/48), done.\u001b[K\r\n",
      "remote: Total 144 (delta 41), reused 57 (delta 26), pack-reused 70\u001b[K\r\n",
      "Receiving objects: 100% (144/144), 161.91 MiB | 22.96 MiB/s, done.\r\n",
      "Resolving deltas: 100% (79/79), done.\r\n",
      "Updating files: 100% (83/83), done.\r\n"
     ]
    }
   ],
   "source": [
    "!git clone https://github.com/adamczycha/HPT.git"
   ]
  },
  {
   "cell_type": "code",
   "execution_count": 4,
   "id": "5320b129",
   "metadata": {
    "execution": {
     "iopub.execute_input": "2024-04-20T10:18:47.867784Z",
     "iopub.status.busy": "2024-04-20T10:18:47.867441Z",
     "iopub.status.idle": "2024-04-20T10:18:47.871884Z",
     "shell.execute_reply": "2024-04-20T10:18:47.871058Z"
    },
    "papermill": {
     "duration": 0.019207,
     "end_time": "2024-04-20T10:18:47.873863",
     "exception": false,
     "start_time": "2024-04-20T10:18:47.854656",
     "status": "completed"
    },
    "tags": []
   },
   "outputs": [],
   "source": [
    "batch_size = 8\n",
    "length_limit = 3\n",
    "num_of_words = 30"
   ]
  },
  {
   "cell_type": "code",
   "execution_count": 5,
   "id": "d21bf625",
   "metadata": {
    "execution": {
     "iopub.execute_input": "2024-04-20T10:18:47.897988Z",
     "iopub.status.busy": "2024-04-20T10:18:47.897706Z",
     "iopub.status.idle": "2024-04-20T10:18:47.901694Z",
     "shell.execute_reply": "2024-04-20T10:18:47.900899Z"
    },
    "id": "WDjwWvBaCYBF",
    "papermill": {
     "duration": 0.018172,
     "end_time": "2024-04-20T10:18:47.903541",
     "exception": false,
     "start_time": "2024-04-20T10:18:47.885369",
     "status": "completed"
    },
    "tags": []
   },
   "outputs": [],
   "source": [
    "source_files = 'HPT/author'\n",
    "end_directory = 'train_data'\n",
    "root_dir = ''\n",
    "model_save_dir = 'models'\n"
   ]
  },
  {
   "cell_type": "code",
   "execution_count": 6,
   "id": "3b5e4789",
   "metadata": {
    "execution": {
     "iopub.execute_input": "2024-04-20T10:18:47.927988Z",
     "iopub.status.busy": "2024-04-20T10:18:47.927435Z",
     "iopub.status.idle": "2024-04-20T10:18:47.937204Z",
     "shell.execute_reply": "2024-04-20T10:18:47.936520Z"
    },
    "id": "xTiUYqWqPsJ_",
    "papermill": {
     "duration": 0.02411,
     "end_time": "2024-04-20T10:18:47.939095",
     "exception": false,
     "start_time": "2024-04-20T10:18:47.914985",
     "status": "completed"
    },
    "tags": []
   },
   "outputs": [],
   "source": [
    "os.chdir(\"HPT\")\n",
    "from ImagePreparation import ImagePreparation as IP\n",
    "from ModelEvaluation import ModelEvaluation as ME\n",
    "os.chdir('..')"
   ]
  },
  {
   "cell_type": "code",
   "execution_count": 7,
   "id": "33159c17",
   "metadata": {
    "execution": {
     "iopub.execute_input": "2024-04-20T10:18:47.963482Z",
     "iopub.status.busy": "2024-04-20T10:18:47.962952Z",
     "iopub.status.idle": "2024-04-20T10:19:39.933011Z",
     "shell.execute_reply": "2024-04-20T10:19:39.931602Z"
    },
    "id": "1CJJQkNHjJGP",
    "outputId": "de2a6e0a-adcc-4cd7-9b77-5b393af97c4b",
    "papermill": {
     "duration": 51.984817,
     "end_time": "2024-04-20T10:19:39.935523",
     "exception": false,
     "start_time": "2024-04-20T10:18:47.950706",
     "status": "completed"
    },
    "tags": []
   },
   "outputs": [
    {
     "name": "stdout",
     "output_type": "stream",
     "text": [
      "Deleted 53 folders because of additional characters\n",
      "[(154, 'się'), (118, 'nie'), (102, 'jest'), (66, 'jak'), (64, 'oraz'), (54, 'lecz'), (52, 'był'), (47, 'tym'), (47, 'przez'), (47, 'może'), (46, 'widać'), (46, 'przed'), (41, 'danych'), (40, 'jego'), (37, 'domu'), (36, 'być'), (33, 'też'), (32, 'same'), (28, 'tylko'), (28, 'pod'), (27, 'które'), (27, 'gdzie'), (26, 'była'), (25, 'lub'), (25, 'jako'), (24, 'tych'), (24, 'tak'), (24, 'stary'), (24, 'przy'), (24, 'nim')]\n",
      "Deleted 3967 folders because of length limit and lack of occurences\n"
     ]
    }
   ],
   "source": [
    "image_prep = IP(end_directory, source_files)\n",
    "image_prep.prepare_images()\n",
    "image_prep.remove_words_over_limit(num_of_words,word_length_limit = length_limit)"
   ]
  },
  {
   "cell_type": "code",
   "execution_count": 8,
   "id": "7ebd4754",
   "metadata": {
    "execution": {
     "iopub.execute_input": "2024-04-20T10:19:39.967340Z",
     "iopub.status.busy": "2024-04-20T10:19:39.966371Z",
     "iopub.status.idle": "2024-04-20T10:19:39.973209Z",
     "shell.execute_reply": "2024-04-20T10:19:39.972367Z"
    },
    "id": "WHdnfxZVjJGQ",
    "papermill": {
     "duration": 0.022542,
     "end_time": "2024-04-20T10:19:39.975138",
     "exception": false,
     "start_time": "2024-04-20T10:19:39.952596",
     "status": "completed"
    },
    "tags": []
   },
   "outputs": [],
   "source": [
    "transformation = transforms.Compose([Resize((224,224)),\n",
    "                                 ToTensor(),\n",
    "                                 transforms.Grayscale(3),\n",
    "                                 Normalize([0.5,0.5,0.5], [0.5,0.5,0.5])])"
   ]
  },
  {
   "cell_type": "code",
   "execution_count": 9,
   "id": "96366760",
   "metadata": {
    "execution": {
     "iopub.execute_input": "2024-04-20T10:19:39.999750Z",
     "iopub.status.busy": "2024-04-20T10:19:39.999469Z",
     "iopub.status.idle": "2024-04-20T10:19:40.028569Z",
     "shell.execute_reply": "2024-04-20T10:19:40.027725Z"
    },
    "id": "ROkX4uQRjJGQ",
    "papermill": {
     "duration": 0.04426,
     "end_time": "2024-04-20T10:19:40.031005",
     "exception": false,
     "start_time": "2024-04-20T10:19:39.986745",
     "status": "completed"
    },
    "tags": []
   },
   "outputs": [],
   "source": [
    "full_data = ImageFolder(root = os.path.join(root_dir, 'train_data'),\n",
    "                         transform = transformation)\n",
    "_generator = torch.Generator().manual_seed(42)\n",
    "train_data, test_data = torch.utils.data.random_split(full_data,[0.8,0.2],generator =_generator)"
   ]
  },
  {
   "cell_type": "code",
   "execution_count": 10,
   "id": "18a66045",
   "metadata": {
    "execution": {
     "iopub.execute_input": "2024-04-20T10:19:40.059497Z",
     "iopub.status.busy": "2024-04-20T10:19:40.058758Z",
     "iopub.status.idle": "2024-04-20T10:19:40.063582Z",
     "shell.execute_reply": "2024-04-20T10:19:40.062756Z"
    },
    "id": "nEDDYMMEjJGQ",
    "papermill": {
     "duration": 0.019403,
     "end_time": "2024-04-20T10:19:40.065540",
     "exception": false,
     "start_time": "2024-04-20T10:19:40.046137",
     "status": "completed"
    },
    "tags": []
   },
   "outputs": [],
   "source": [
    "idx_to_class = {j:i for i, j in full_data.class_to_idx.items()}"
   ]
  },
  {
   "cell_type": "code",
   "execution_count": 11,
   "id": "0b0e8b92",
   "metadata": {
    "execution": {
     "iopub.execute_input": "2024-04-20T10:19:40.090516Z",
     "iopub.status.busy": "2024-04-20T10:19:40.089772Z",
     "iopub.status.idle": "2024-04-20T10:19:40.543095Z",
     "shell.execute_reply": "2024-04-20T10:19:40.542164Z"
    },
    "id": "S0xK1N7yjJGQ",
    "outputId": "fe7c3d31-2b1a-4d62-d3d4-6f83605ffa00",
    "papermill": {
     "duration": 0.467868,
     "end_time": "2024-04-20T10:19:40.545119",
     "exception": false,
     "start_time": "2024-04-20T10:19:40.077251",
     "status": "completed"
    },
    "tags": []
   },
   "outputs": [
    {
     "data": {
      "text/plain": [
       "Text(0.5, 1.0, 'być')"
      ]
     },
     "execution_count": 11,
     "metadata": {},
     "output_type": "execute_result"
    },
    {
     "data": {
      "image/png": "[encoded data removed]",
      "text/plain": [
       "<Figure size 640x480 with 1 Axes>"
      ]
     },
     "metadata": {},
     "output_type": "display_data"
    }
   ],
   "source": [
    "sample_img = full_data[0][0].numpy().transpose(1,2,0)\n",
    "mean = np.array([0.5,0.5,0.5])\n",
    "std = np.array([0.5,0.5,0.5])\n",
    "inp = std * sample_img + mean\n",
    "inp = np.clip(inp,0,1)\n",
    "plt.imshow(inp)\n",
    "plt.title(idx_to_class[(full_data[0][1])])"
   ]
  },
  {
   "cell_type": "code",
   "execution_count": 12,
   "id": "1979b470",
   "metadata": {
    "execution": {
     "iopub.execute_input": "2024-04-20T10:19:40.572659Z",
     "iopub.status.busy": "2024-04-20T10:19:40.572134Z",
     "iopub.status.idle": "2024-04-20T10:19:40.576973Z",
     "shell.execute_reply": "2024-04-20T10:19:40.576058Z"
    },
    "id": "TLQCfauLjJGQ",
    "papermill": {
     "duration": 0.020685,
     "end_time": "2024-04-20T10:19:40.578981",
     "exception": false,
     "start_time": "2024-04-20T10:19:40.558296",
     "status": "completed"
    },
    "tags": []
   },
   "outputs": [],
   "source": [
    "def data_loader_init(batch_size):\n",
    "    train_dataloader = DataLoader(train_data, batch_size = batch_size, shuffle=True, num_workers = 0)\n",
    "    test_dataloader = DataLoader(test_data, batch_size = batch_size, shuffle=True, num_workers = 0)\n",
    "    return train_dataloader, test_dataloader"
   ]
  },
  {
   "cell_type": "code",
   "execution_count": 13,
   "id": "2fdd9dc6",
   "metadata": {
    "execution": {
     "iopub.execute_input": "2024-04-20T10:19:40.605545Z",
     "iopub.status.busy": "2024-04-20T10:19:40.605285Z",
     "iopub.status.idle": "2024-04-20T10:19:40.614917Z",
     "shell.execute_reply": "2024-04-20T10:19:40.613974Z"
    },
    "id": "UGYedQ9rjJGR",
    "papermill": {
     "duration": 0.025045,
     "end_time": "2024-04-20T10:19:40.616769",
     "exception": false,
     "start_time": "2024-04-20T10:19:40.591724",
     "status": "completed"
    },
    "tags": []
   },
   "outputs": [],
   "source": [
    "class block(nn.Module):\n",
    "    def __init__(self, in_channels, intermidate_channels, identity_downsample = None, stride = 1):\n",
    "        super().__init__()\n",
    "        self.expantion = 4\n",
    "        self.conv1 = nn.Conv2d(in_channels,intermidate_channels, kernel_size = 1, bias = False)\n",
    "        self.bn1 = nn.BatchNorm2d(intermidate_channels)\n",
    "        self.conv2 = nn.Conv2d(intermidate_channels,intermidate_channels,kernel_size=3, stride = stride, padding = 1, bias = False )\n",
    "        self.bn2 = nn.BatchNorm2d(intermidate_channels)\n",
    "        self.conv3 = nn.Conv2d(intermidate_channels, intermidate_channels*4, kernel_size = 1, bias = False )\n",
    "        self.bn3 = nn.BatchNorm2d(intermidate_channels*4)\n",
    "        self.identity_downsample = identity_downsample\n",
    "        self.stride = stride\n",
    "\n",
    "\n",
    "    def forward(self, x):\n",
    "        identity = x.clone()\n",
    "\n",
    "        x = self.conv1(x)\n",
    "        x = self.bn1(x)\n",
    "        x = F.relu(x)\n",
    "        x = self.conv2(x)\n",
    "        x = self.bn2(x)\n",
    "        x = F.relu(x)\n",
    "        x = self.conv3(x)\n",
    "        x = self.bn3(x)\n",
    "        x = F.relu(x)\n",
    "\n",
    "        if self.identity_downsample is not None:\n",
    "            identity = self.identity_downsample(identity)\n",
    "\n",
    "        x = x + identity\n",
    "        x = F.relu(x)\n",
    "        return x\n",
    "\n",
    "\n",
    "\n"
   ]
  },
  {
   "cell_type": "code",
   "execution_count": 14,
   "id": "29b8e276",
   "metadata": {
    "execution": {
     "iopub.execute_input": "2024-04-20T10:19:40.643336Z",
     "iopub.status.busy": "2024-04-20T10:19:40.643047Z",
     "iopub.status.idle": "2024-04-20T10:19:40.655003Z",
     "shell.execute_reply": "2024-04-20T10:19:40.654174Z"
    },
    "id": "Azganh5KjJGR",
    "papermill": {
     "duration": 0.027245,
     "end_time": "2024-04-20T10:19:40.656791",
     "exception": false,
     "start_time": "2024-04-20T10:19:40.629546",
     "status": "completed"
    },
    "tags": []
   },
   "outputs": [],
   "source": [
    "class ResNet(nn.Module):\n",
    "    def __init__(self, block, layers, image_channels, num_classes):\n",
    "        super(ResNet, self).__init__()\n",
    "        self.in_channels = 64\n",
    "        self.conv1 = nn.Conv2d(image_channels,self.in_channels, kernel_size = 7, stride=2, padding= 3, bias=False)\n",
    "        self.bn1 = nn.BatchNorm2d(self.in_channels)\n",
    "\n",
    "        self.layer1 = self._make_layer(block, layers[0], 64, 1)\n",
    "        self.layer2 = self._make_layer(block, layers[1], 128, 2)\n",
    "        self.layer3 = self._make_layer(block, layers[2], 256, 2)\n",
    "        self.layer4 = self._make_layer(block, layers[3], 512, 2)\n",
    "\n",
    "        self.fc1 = nn.Linear(512*4, num_classes)\n",
    "\n",
    "    def forward(self,x):\n",
    "        x = self.conv1(x)\n",
    "        x = self.bn1(x)\n",
    "        x = F.relu(x)\n",
    "        x = F.max_pool2d(x, kernel_size=3, stride=2, padding =1)\n",
    "        x = self.layer1(x)\n",
    "        x = self.layer2(x)\n",
    "        x = self.layer3(x)\n",
    "        x = self.layer4(x)\n",
    "        x = F.adaptive_avg_pool2d(x,(1,1))\n",
    "        x = x.flatten(1)\n",
    "        x = self.fc1(x)\n",
    "        return x\n",
    "\n",
    "\n",
    "    def _make_layer(self, block, num_residual_blocks, intermidate_channels, stride):\n",
    "        identity_downsample= None\n",
    "        layers = []\n",
    "\n",
    "        if stride != 1 or self.in_channels != (intermidate_channels*4):\n",
    "            identity_downsample = nn.Sequential(\n",
    "                nn.Conv2d(self.in_channels, intermidate_channels*4, stride=stride, kernel_size= 1, bias = False),\n",
    "                nn.BatchNorm2d(intermidate_channels *4)\n",
    "            )\n",
    "\n",
    "        layers.append(\n",
    "            block(self.in_channels,intermidate_channels, identity_downsample, stride)\n",
    "            )\n",
    "\n",
    "        self.in_channels = intermidate_channels *4\n",
    "\n",
    "        for i in range(num_residual_blocks -1):\n",
    "            layers.append(block(self.in_channels, intermidate_channels))\n",
    "\n",
    "        return nn.Sequential(*layers)\n"
   ]
  },
  {
   "cell_type": "code",
   "execution_count": 15,
   "id": "9e91f606",
   "metadata": {
    "execution": {
     "iopub.execute_input": "2024-04-20T10:19:40.683326Z",
     "iopub.status.busy": "2024-04-20T10:19:40.683073Z",
     "iopub.status.idle": "2024-04-20T10:19:40.688622Z",
     "shell.execute_reply": "2024-04-20T10:19:40.687795Z"
    },
    "id": "3KBH0R6SjJGR",
    "papermill": {
     "duration": 0.021058,
     "end_time": "2024-04-20T10:19:40.690543",
     "exception": false,
     "start_time": "2024-04-20T10:19:40.669485",
     "status": "completed"
    },
    "tags": []
   },
   "outputs": [],
   "source": [
    "def ResNet50(img_channel = 3, num_classes = 1000):\n",
    "    return ResNet(block, [3,4,6,3], img_channel, num_classes)\n",
    "\n",
    "def ResNet101(img_channel = 3, num_classes = 1000):\n",
    "    return ResNet(block, [3,4,23,3], img_channel, num_classes)\n",
    "\n",
    "def ResNet152(img_channel = 3, num_classes = 1000):\n",
    "    return ResNet(block, [3,8,36,3], img_channel, num_classes)\n",
    "\n"
   ]
  },
  {
   "cell_type": "code",
   "execution_count": 16,
   "id": "d89461b5",
   "metadata": {
    "execution": {
     "iopub.execute_input": "2024-04-20T10:19:40.716953Z",
     "iopub.status.busy": "2024-04-20T10:19:40.716677Z",
     "iopub.status.idle": "2024-04-20T10:19:40.721055Z",
     "shell.execute_reply": "2024-04-20T10:19:40.720209Z"
    },
    "id": "IVPN6WoIjJGS",
    "papermill": {
     "duration": 0.019814,
     "end_time": "2024-04-20T10:19:40.723085",
     "exception": false,
     "start_time": "2024-04-20T10:19:40.703271",
     "status": "completed"
    },
    "tags": []
   },
   "outputs": [],
   "source": [
    "def weights_init(layer_in):\n",
    "    if isinstance(layer_in, nn.Linear):\n",
    "        nn.init.kaiming_uniform_(layer_in.weight)\n",
    "        layer_in.bias.data.fill_(0.0)"
   ]
  },
  {
   "cell_type": "code",
   "execution_count": 17,
   "id": "fbbe9b3f",
   "metadata": {
    "execution": {
     "iopub.execute_input": "2024-04-20T10:19:40.749720Z",
     "iopub.status.busy": "2024-04-20T10:19:40.749478Z",
     "iopub.status.idle": "2024-04-20T10:19:40.754046Z",
     "shell.execute_reply": "2024-04-20T10:19:40.753195Z"
    },
    "papermill": {
     "duration": 0.020022,
     "end_time": "2024-04-20T10:19:40.755874",
     "exception": false,
     "start_time": "2024-04-20T10:19:40.735852",
     "status": "completed"
    },
    "tags": []
   },
   "outputs": [],
   "source": [
    "general_params = {'img_channel': 3,'num_classes': num_of_words,'lr': 1e-4,'scheduler_step':10,'scheduler_gamma':0.1}\n",
    "\n",
    "# train_param = [ {'model':ResNet50,'model_name':'ResNet50','batch_size': 8 },{'model':ResNet50,'model_name':'ResNet50','batch_size': 16},{'model':ResNet50,'model_name':'ResNet50','batch_size': 32},\n",
    "#                    {'model':ResNet101,'model_name':'ResNet101','batch_size':8 },{'model':ResNet101,'model_name':'ResNet101','batch_size': 16 },{'model':ResNet101,'model_name':'ResNet101','batch_size': 32 }]\n",
    "train_param = [ {'model':ResNet101,'model_name':'ResNet101','batch_size': 4} ]"
   ]
  },
  {
   "cell_type": "code",
   "execution_count": 18,
   "id": "71eacb92",
   "metadata": {
    "execution": {
     "iopub.execute_input": "2024-04-20T10:19:40.782336Z",
     "iopub.status.busy": "2024-04-20T10:19:40.782084Z",
     "iopub.status.idle": "2024-04-20T10:51:35.685361Z",
     "shell.execute_reply": "2024-04-20T10:51:35.684402Z"
    },
    "papermill": {
     "duration": 1914.918828,
     "end_time": "2024-04-20T10:51:35.687490",
     "exception": false,
     "start_time": "2024-04-20T10:19:40.768662",
     "status": "completed"
    },
    "tags": []
   },
   "outputs": [
    {
     "name": "stdout",
     "output_type": "stream",
     "text": [
      "--------------------------------------------------\n",
      "Model ResNet101 with a batch size of 4.\n",
      "--------------------------------------------------\n",
      "Epoch 1/22\n",
      "----------\n",
      "train loss: 1.2413648070810048, acc: 0.15251141786575317\n",
      "test loss: 1.5097894773378477, acc: 0.12820513546466827\n",
      "Epoch 2/22\n",
      "----------\n",
      "train loss: 0.9146308859733686, acc: 0.25479450821876526\n",
      "test loss: 1.0491378080277216, acc: 0.2271062284708023\n",
      "Epoch 3/22\n",
      "----------\n",
      "train loss: 0.4286831183996919, acc: 0.5287671089172363\n",
      "test loss: 0.5763363755229629, acc: 0.45787546038627625\n",
      "Epoch 4/22\n",
      "----------\n",
      "train loss: 0.258530206418677, acc: 0.6858447194099426\n",
      "test loss: 0.3949943798280324, acc: 0.5567765831947327\n",
      "Epoch 5/22\n",
      "----------\n",
      "train loss: 0.32389035605013233, acc: 0.6794520616531372\n",
      "test loss: 0.47240822065635263, acc: 0.5824176073074341\n",
      "Epoch 6/22\n",
      "----------\n",
      "train loss: 0.11804381976814167, acc: 0.8639269471168518\n",
      "test loss: 0.2956658061662, acc: 0.7289377450942993\n",
      "Epoch 7/22\n",
      "----------\n",
      "train loss: 0.1704463900661215, acc: 0.8063926696777344\n",
      "test loss: 0.39523001132539776, acc: 0.6520146727561951\n",
      "Epoch 8/22\n",
      "----------\n",
      "train loss: 0.12578840213657685, acc: 0.8575342297554016\n",
      "test loss: 0.2951110914731637, acc: 0.7106227278709412\n",
      "Epoch 9/22\n",
      "----------\n",
      "train loss: 0.12872525423692888, acc: 0.889497697353363\n",
      "test loss: 0.2813623687832347, acc: 0.7509157657623291\n",
      "Epoch 10/22\n",
      "----------\n",
      "train loss: 0.02512765666234709, acc: 0.9762557148933411\n",
      "test loss: 0.20672284615151038, acc: 0.8681318759918213\n",
      "Epoch 11/22\n",
      "----------\n",
      "train loss: 0.013645197305299813, acc: 0.9917808175086975\n",
      "test loss: 0.15160301826009867, acc: 0.901098906993866\n",
      "Epoch 12/22\n",
      "----------\n",
      "train loss: 0.006968023872036715, acc: 0.9954337477684021\n",
      "test loss: 0.13725605197486312, acc: 0.9120879173278809\n",
      "Epoch 13/22\n",
      "----------\n",
      "train loss: 0.011053748969074706, acc: 0.9926940202713013\n",
      "test loss: 0.1347203822271308, acc: 0.9267399311065674\n",
      "Epoch 14/22\n",
      "----------\n",
      "train loss: 0.005661544781029062, acc: 0.9963470101356506\n",
      "test loss: 0.1207132038011961, acc: 0.9120879173278809\n",
      "Epoch 15/22\n",
      "----------\n",
      "train loss: 0.007608511945053076, acc: 0.9945205450057983\n",
      "test loss: 0.1284975357559413, acc: 0.9194139242172241\n",
      "Epoch 16/22\n",
      "----------\n",
      "train loss: 0.008923571568585559, acc: 0.9926940202713013\n",
      "test loss: 0.12900815706778124, acc: 0.9120879173278809\n",
      "Epoch 17/22\n",
      "----------\n",
      "train loss: 0.0037728260505410787, acc: 0.9981734752655029\n",
      "test loss: 0.12491298822238112, acc: 0.9157509207725525\n",
      "Epoch 18/22\n",
      "----------\n",
      "train loss: 0.006711539822281671, acc: 0.9963470101356506\n",
      "test loss: 0.12305111680975658, acc: 0.930402934551239\n",
      "Epoch 19/22\n",
      "----------\n",
      "train loss: 0.004734173511132291, acc: 0.9972602725028992\n",
      "test loss: 0.12274517395431865, acc: 0.9120879173278809\n",
      "Epoch 20/22\n",
      "----------\n",
      "train loss: 0.006666307309310531, acc: 0.9963470101356506\n",
      "test loss: 0.12329044861090242, acc: 0.9230769276618958\n",
      "Epoch 21/22\n",
      "----------\n",
      "train loss: 0.0043007445499131285, acc: 0.9972602725028992\n",
      "test loss: 0.11107767765089782, acc: 0.9230769276618958\n",
      "Epoch 22/22\n",
      "----------\n",
      "train loss: 0.006916940684667675, acc: 0.9963470101356506\n",
      "test loss: 0.12158554142797084, acc: 0.9340659379959106\n"
     ]
    },
    {
     "data": {
      "image/png": "[encoded data removed]",
      "text/plain": [
       "<Figure size 640x480 with 1 Axes>"
      ]
     },
     "metadata": {},
     "output_type": "display_data"
    }
   ],
   "source": [
    "meval = ME(general_params, weights_init)\n",
    "n_epochs = 22\n",
    "for param in train_param:\n",
    "    print('-'*50)\n",
    "    print(f\"Model {param['model_name']} with a batch size of {param['batch_size']}.\")\n",
    "    print('-'*50)\n",
    "    train_loader, test_loader = data_loader_init(param['batch_size'])\n",
    "    meval.train_model(n_epochs, param, train_loader, test_loader)\n"
   ]
  }
 ],
 "metadata": {
  "accelerator": "GPU",
  "colab": {
   "gpuType": "T4",
   "provenance": []
  },
  "kaggle": {
   "accelerator": "gpu",
   "dataSources": [],
   "dockerImageVersionId": 30684,
   "isGpuEnabled": true,
   "isInternetEnabled": true,
   "language": "python",
   "sourceType": "notebook"
  },
  "kernelspec": {
   "display_name": "Python 3",
   "language": "python",
   "name": "python3"
  },
  "language_info": {
   "codemirror_mode": {
    "name": "ipython",
    "version": 3
   },
   "file_extension": ".py",
   "mimetype": "text/x-python",
   "name": "python",
   "nbconvert_exporter": "python",
   "pygments_lexer": "ipython3",
   "version": "3.10.13"
  },
  "papermill": {
   "default_parameters": {},
   "duration": 1993.43756,
   "end_time": "2024-04-20T10:51:37.233062",
   "environment_variables": {},
   "exception": null,
   "input_path": "__notebook__.ipynb",
   "output_path": "__notebook__.ipynb",
   "parameters": {},
   "start_time": "2024-04-20T10:18:23.795502",
   "version": "2.5.0"
  }
 },
 "nbformat": 4,
 "nbformat_minor": 5
}
